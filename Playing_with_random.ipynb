{
 "cells": [
  {
   "cell_type": "code",
   "execution_count": 1,
   "metadata": {},
   "outputs": [],
   "source": [
    "import random "
   ]
  },
  {
   "cell_type": "code",
   "execution_count": 2,
   "metadata": {},
   "outputs": [
    {
     "name": "stdout",
     "output_type": "stream",
     "text": [
      "4.920629214168976\n",
      "3.804545447918387\n",
      "6.603570754094318\n",
      "3.07293100043938\n",
      "5.861744460645651\n",
      "3.977926699618343\n",
      "4.521812875776721\n",
      "5.717839020895468\n",
      "4.008731861625245\n",
      "6.644195754716879\n"
     ]
    }
   ],
   "source": [
    "for i in range(10):\n",
    "    # they are unifrom distribution \n",
    "    print(random.uniform(3,7))"
   ]
  },
  {
   "cell_type": "code",
   "execution_count": 4,
   "metadata": {},
   "outputs": [
    {
     "name": "stdout",
     "output_type": "stream",
     "text": [
      "-9.052522691681569\n",
      "-1.7608480922029282\n",
      "-4.292624402739356\n",
      "-0.2754116835312893\n",
      "-11.313078156814166\n",
      "16.04882158408978\n",
      "11.700340934952303\n",
      "5.198266639455543\n",
      "4.121068489967844\n",
      "3.781795639092965\n",
      "2.1721785652375174\n",
      "0.6963408413192351\n",
      "-5.866805783441301\n",
      "-3.2932496317694375\n",
      "-3.6771666037552326\n",
      "-0.4722041529974514\n",
      "1.044684125809325\n",
      "-17.383344193342232\n",
      "18.69564987709897\n",
      "6.117620846724315\n"
     ]
    }
   ],
   "source": [
    "# normal distribution\n",
    "for i in range(20):\n",
    "    print(random.normalvariate(0,9)) # takes normal distribution and standard deviation as input \n",
    "\n"
   ]
  },
  {
   "cell_type": "code",
   "execution_count": 7,
   "metadata": {},
   "outputs": [
    {
     "name": "stdout",
     "output_type": "stream",
     "text": [
      "4\n",
      "5\n",
      "2\n",
      "6\n",
      "6\n"
     ]
    }
   ],
   "source": [
    "# die rolling program\n",
    "for i in range(1,6):\n",
    "    print(random.randint(1,6))\n",
    "    "
   ]
  },
  {
   "cell_type": "code",
   "execution_count": 27,
   "metadata": {
    "scrolled": true
   },
   "outputs": [
    {
     "name": "stdout",
     "output_type": "stream",
     "text": [
      "['scissors']\n",
      "['paper']\n",
      "['rock']\n",
      "['scissors']\n",
      "['rock']\n",
      "['paper']\n",
      "['rock']\n",
      "['paper']\n",
      "['rock']\n",
      "['scissors']\n",
      "0\n",
      "player2 5\n"
     ]
    }
   ],
   "source": [
    "# rock paper scissors\n",
    "outcomes=[\"rock\",\"paper\",\"scissors\"]\n",
    "player1=0\n",
    "player2=0\n",
    "for i in range(5):\n",
    "    player_1=random.choices(outcomes)\n",
    "    print(player_1)\n",
    "    player_2=random.choices(outcomes)\n",
    "    print(player_2)\n",
    "    if (player_1==\"paper\" and player_2==\"rock\") or (player_1==\"rock\" and player_2==\"scissors\") or (player_1==\"scissors\" and player_2==\"paper\"):\n",
    "        player1+=1\n",
    "    elif player_1==player_2:\n",
    "        pass\n",
    "    else:\n",
    "        player2+=1\n",
    "\n",
    "print(player1)\n",
    "print(\"player2\",player2)"
   ]
  },
  {
   "cell_type": "code",
   "execution_count": 28,
   "metadata": {},
   "outputs": [
    {
     "name": "stdout",
     "output_type": "stream",
     "text": [
      "Enter choice \n",
      " 1. Rock \n",
      " 2. paper \n",
      " 3. scissor \n",
      "\n",
      "User turn: Rock\n"
     ]
    },
    {
     "ename": "ValueError",
     "evalue": "invalid literal for int() with base 10: 'Rock'",
     "output_type": "error",
     "traceback": [
      "\u001b[1;31m---------------------------------------------------------------------------\u001b[0m",
      "\u001b[1;31mValueError\u001b[0m                                Traceback (most recent call last)",
      "\u001b[1;32m<ipython-input-28-edabd3e3d2a5>\u001b[0m in \u001b[0;36m<module>\u001b[1;34m\u001b[0m\n\u001b[0;32m      3\u001b[0m \u001b[1;33m\u001b[0m\u001b[0m\n\u001b[0;32m      4\u001b[0m     \u001b[1;31m# take the input from user\u001b[0m\u001b[1;33m\u001b[0m\u001b[1;33m\u001b[0m\u001b[1;33m\u001b[0m\u001b[0m\n\u001b[1;32m----> 5\u001b[1;33m     \u001b[0mchoice\u001b[0m \u001b[1;33m=\u001b[0m \u001b[0mint\u001b[0m\u001b[1;33m(\u001b[0m\u001b[0minput\u001b[0m\u001b[1;33m(\u001b[0m\u001b[1;34m\"User turn: \"\u001b[0m\u001b[1;33m)\u001b[0m\u001b[1;33m)\u001b[0m\u001b[1;33m\u001b[0m\u001b[1;33m\u001b[0m\u001b[0m\n\u001b[0m\u001b[0;32m      6\u001b[0m \u001b[1;33m\u001b[0m\u001b[0m\n\u001b[0;32m      7\u001b[0m     \u001b[1;31m# OR is the short-circuit operator\u001b[0m\u001b[1;33m\u001b[0m\u001b[1;33m\u001b[0m\u001b[1;33m\u001b[0m\u001b[0m\n",
      "\u001b[1;31mValueError\u001b[0m: invalid literal for int() with base 10: 'Rock'"
     ]
    }
   ],
   "source": [
    "while True: \n",
    "    print(\"Enter choice \\n 1. Rock \\n 2. paper \\n 3. scissor \\n\") \n",
    "      \n",
    "    # take the input from user \n",
    "    choice = int(input(\"User turn: \")) \n",
    "  \n",
    "    # OR is the short-circuit operator \n",
    "    # if any one of the condition is true \n",
    "    # then it return True value \n",
    "      \n",
    "    # looping until user enter invalid input \n",
    "    while choice > 3 or choice < 1: \n",
    "        choice = int(input(\"enter valid input: \")) \n",
    "          \n",
    "  \n",
    "    # initialize value of choice_name variable \n",
    "    # corresponding to the choice value \n",
    "    if choice == 1: \n",
    "        choice_name = 'Rock'\n",
    "    elif choice == 2: \n",
    "        choice_name = 'paper'\n",
    "    else: \n",
    "        choice_name = 'scissor'\n",
    "          \n",
    "    # print user choice  \n",
    "    print(\"user choice is: \" + choice_name) \n",
    "    print(\"\\nNow its computer turn.......\") \n",
    "  \n",
    "    # Computer chooses randomly any number  \n",
    "    # among 1 , 2 and 3. Using randint method \n",
    "    # of random module \n",
    "    comp_choice = random.randint(1, 3) \n",
    "      \n",
    "    # looping until comp_choice value  \n",
    "    # is equal to the choice value \n",
    "    while comp_choice == choice: \n",
    "        comp_choice = random.randint(1, 3) \n",
    "  \n",
    "    # initialize value of comp_choice_name  \n",
    "    # variable corresponding to the choice value \n",
    "    if comp_choice == 1: \n",
    "        comp_choice_name = 'Rock'\n",
    "    elif comp_choice == 2: \n",
    "        comp_choice_name = 'paper'\n",
    "    else: \n",
    "        comp_choice_name = 'scissor'\n",
    "          \n",
    "    print(\"Computer choice is: \" + comp_choice_name) \n",
    "  \n",
    "    print(choice_name + \" V/s \" + comp_choice_name) \n",
    "  \n",
    "    # condition for winning \n",
    "    if((choice == 1 and comp_choice == 2) or\n",
    "      (choice == 2 and comp_choice ==1 )): \n",
    "        print(\"paper wins => \", end = \"\") \n",
    "        result = \"paper\"\n",
    "          \n",
    "    elif((choice == 1 and comp_choice == 3) or\n",
    "        (choice == 3 and comp_choice == 1)): \n",
    "        print(\"Rock wins =>\", end = \"\") \n",
    "        result = \"Rock\"\n",
    "    else: \n",
    "        print(\"scissor wins =>\", end = \"\") \n",
    "        result = \"scissor\"\n",
    "  \n",
    "    # Printing either user or computer wins \n",
    "    if result == choice_name: \n",
    "        print(\"<== User wins ==>\") \n",
    "    else: \n",
    "        print(\"<== Computer wins ==>\") \n",
    "          \n",
    "    print(\"Do you want to play again? (Y/N)\") \n",
    "    ans = input() \n",
    "  \n",
    "  \n",
    "    # if user input n or N then condition is True \n",
    "    if ans == 'n' or ans == 'N': \n",
    "        break\n",
    "      \n",
    "# after coming out of the while loop \n",
    "# we print thanks for playing \n",
    "print(\"\\nThanks for playing\") \n"
   ]
  },
  {
   "cell_type": "code",
   "execution_count": null,
   "metadata": {},
   "outputs": [],
   "source": []
  },
  {
   "cell_type": "code",
   "execution_count": null,
   "metadata": {},
   "outputs": [],
   "source": []
  }
 ],
 "metadata": {
  "kernelspec": {
   "display_name": "Python 3",
   "language": "python",
   "name": "python3"
  },
  "language_info": {
   "codemirror_mode": {
    "name": "ipython",
    "version": 3
   },
   "file_extension": ".py",
   "mimetype": "text/x-python",
   "name": "python",
   "nbconvert_exporter": "python",
   "pygments_lexer": "ipython3",
   "version": "3.7.6"
  }
 },
 "nbformat": 4,
 "nbformat_minor": 4
}
